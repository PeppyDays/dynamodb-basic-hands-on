{
 "cells": [
  {
   "cell_type": "markdown",
   "metadata": {},
   "source": [
    "# Working with Tables\n",
    "\n",
    "When working with Python, there are two ways to do actions on DynamoDB tables - `DynamoDB.Client` and `DynamoDB.Resource`. `DynamoDB.Client` is a low-level client representing DynamoDB and matching SDK APIs as one on one. `DynamoDB.Resource`, on the other hand, provides abstract ways to communicate SDK APIs and more user-friendly.\n",
    "\n",
    "In this hands on, we're going to use `DynamoDB.Resources` to get our hands dirty. No worries because the two ways provide similar methods and if you get familiar with one of them, I believe you can do the other one easily as well.\n",
    "\n",
    "Python library, named `boto3`, are all documented [Boto3 Docs](https://boto3.amazonaws.com/v1/documentation/api/latest/reference/services/dynamodb.html)."
   ]
  },
  {
   "cell_type": "markdown",
   "metadata": {},
   "source": [
    "## Creating a Table\n",
    "\n",
    "You will create `Starbucks` table which stores all Starbucks locations in the world by the provided information in [Kaggle](https://www.kaggle.com/starbucks/store-locations). Download `directory.csv` in the given link and uncompress in your local. After that, put the file in the root directory.\n",
    "\n",
    "When opening the file, you will see the csv-formatted data as follows.\n",
    "\n",
    "```csv\n",
    "Brand,Store Number,Store Name,Ownership Type,Street Address,City,State/Province,Country,Postcode,Phone Number,Timezone,Longitude,Latitude\n",
    "Starbucks,47323-257470,Korea press center,Joint Venture,\"Taepyungro, 25, Taepyungro1ga, Junggu, Seoul\",Seoul,11,KR,4520,,GMT+09:00 Asia/Seoul,126.98,37.57\n",
    "Starbucks,20937-209004,Seoul Womens Univ.,Joint Venture,\"621 Hwarang-ro Nowon-gu, Seoul, Korea\",Seoul,11,KR,139-774,,GMT+09:00 Asia/Seoul,127.53,37.37\n",
    "[..]\n",
    "```\n",
    "\n",
    "`Store Number` is the unique ID of branches and this can be the good candidate for primary key. We'll use the column as partition key and not set sort key. Here is a simple description for the table.\n",
    "\n",
    "```\n",
    "Table Name: Starbucks\n",
    "Partition Key: StoreNumber\n",
    "```\n",
    "\n",
    "As you learnt, there are two capacity modes - provisioned and on-demand. In this hands on, let's use on-demand in all examples to make it simple because our goal is just getting accustomed to the data operation."
   ]
  },
  {
   "cell_type": "code",
   "execution_count": 1,
   "metadata": {},
   "outputs": [],
   "source": [
    "# import and get dynamodb resource\n",
    "import boto3\n",
    "from boto3.dynamodb.conditions import Key, Attr\n",
    "from botocore.exceptions import ClientError\n",
    "from pprint import pprint\n",
    "from decimal import Decimal\n",
    "\n",
    "dynamodb = boto3.resource('dynamodb')"
   ]
  },
  {
   "cell_type": "code",
   "execution_count": 31,
   "metadata": {},
   "outputs": [
    {
     "name": "stdout",
     "output_type": "stream",
     "text": [
      "dynamodb.Table(name='Starbucks')\n"
     ]
    }
   ],
   "source": [
    "# Create StarbucksLocations table\n",
    "starbucks = dynamodb.create_table(\n",
    "    TableName='Starbucks',\n",
    "    AttributeDefinitions=[\n",
    "        {\n",
    "            'AttributeName': 'StoreNumber',\n",
    "            'AttributeType': 'S'\n",
    "        }\n",
    "    ],\n",
    "    KeySchema=[\n",
    "        {\n",
    "            'AttributeName': 'StoreNumber',\n",
    "            'KeyType': 'HASH'\n",
    "        }\n",
    "    ],\n",
    "    BillingMode='PROVISIONED',\n",
    "    ProvisionedThroughput={\n",
    "        'ReadCapacityUnits': 100,\n",
    "        'WriteCapacityUnits': 100\n",
    "    }\n",
    ")\n",
    "\n",
    "print(starbucks)"
   ]
  },
  {
   "cell_type": "code",
   "execution_count": 32,
   "metadata": {},
   "outputs": [],
   "source": [
    "# Wait until the table has created\n",
    "starbucks.wait_until_exists()"
   ]
  },
  {
   "cell_type": "markdown",
   "metadata": {},
   "source": [
    "## Describing a Table\n",
    "\n",
    "To view details about a table, use the `DescribeTable` operation. If `DynamoDB.Resource` variable is set, the table variable itself contains the information as attributes.\n",
    "\n",
    "- archival_summary\n",
    "- attribute_definitions\n",
    "- billing_mode_summary\n",
    "- creation_date_time\n",
    "- global_secondary_indexes\n",
    "- global_table_version\n",
    "- item_count\n",
    "- key_schema\n",
    "- latest_stream_arn\n",
    "- latest_stream_label\n",
    "- local_secondary_indexes\n",
    "- provisioned_throughput\n",
    "- replicas\n",
    "- restore_summary\n",
    "- sse_description\n",
    "- stream_specification\n",
    "- table_arn\n",
    "- table_id\n",
    "- table_name\n",
    "- table_size_bytes\n",
    "- table_status"
   ]
  },
  {
   "cell_type": "code",
   "execution_count": 33,
   "metadata": {},
   "outputs": [],
   "source": [
    "# Refresh the table information\n",
    "starbucks.load()"
   ]
  },
  {
   "cell_type": "code",
   "execution_count": 36,
   "metadata": {},
   "outputs": [
    {
     "name": "stdout",
     "output_type": "stream",
     "text": [
      "Capacity mode:\n",
      "None\n",
      "Provisioned capacity:\n",
      "{'NumberOfDecreasesToday': 0,\n",
      " 'ReadCapacityUnits': 100,\n",
      " 'WriteCapacityUnits': 100}\n",
      "Key schema:\n",
      "[{'AttributeName': 'StoreNumber', 'KeyType': 'HASH'}]\n"
     ]
    }
   ],
   "source": [
    "# Check various table information\n",
    "print('Capacity mode:')\n",
    "pprint(starbucks.billing_mode_summary)\n",
    "print('Provisioned capacity:')\n",
    "pprint(starbucks.provisioned_throughput)\n",
    "print('Key schema:')\n",
    "pprint(starbucks.key_schema)"
   ]
  },
  {
   "cell_type": "markdown",
   "metadata": {},
   "source": [
    "## Updating a Table\n",
    "\n",
    "Assume that you want to change the table's capacity mode from on-demand to provisioned mode. The mode is changeable and the change is allowed once in 24 hours.\n",
    "\n",
    "Here is a sample command to update the table's capacity mode."
   ]
  },
  {
   "cell_type": "code",
   "execution_count": 37,
   "metadata": {},
   "outputs": [],
   "source": [
    "# Change capacity mode to provisioned\n",
    "# It will take roughly 5 mins to complete\n",
    "starbucks = starbucks.update(\n",
    "    BillingMode='PAY_PER_REQUEST'\n",
    ")"
   ]
  },
  {
   "cell_type": "code",
   "execution_count": 53,
   "metadata": {},
   "outputs": [
    {
     "name": "stdout",
     "output_type": "stream",
     "text": [
      "Capacity mode:\n",
      "{'BillingMode': 'PAY_PER_REQUEST',\n",
      " 'LastUpdateToPayPerRequestDateTime': datetime.datetime(2020, 10, 2, 16, 17, 4, 371000, tzinfo=tzlocal())}\n",
      "Provisioned capacity:\n",
      "{'NumberOfDecreasesToday': 0, 'ReadCapacityUnits': 0, 'WriteCapacityUnits': 0}\n",
      "Table status:\n",
      "'ACTIVE'\n"
     ]
    }
   ],
   "source": [
    "# Reload table information and check capacity mode\n",
    "starbucks.load()\n",
    "\n",
    "print('Capacity mode:')\n",
    "pprint(starbucks.billing_mode_summary)\n",
    "print('Provisioned capacity:')\n",
    "pprint(starbucks.provisioned_throughput)\n",
    "print('Table status:')\n",
    "pprint(starbucks.table_status)"
   ]
  },
  {
   "cell_type": "code",
   "execution_count": 52,
   "metadata": {},
   "outputs": [],
   "source": [
    "starbucks.wait_until_exists()"
   ]
  },
  {
   "cell_type": "markdown",
   "metadata": {},
   "source": [
    "As the application developers are requesting that they need a new access pattern to the table. They want to search the table with `Country` and `State#City` attributes.\n",
    "\n",
    "To accomodate the request, you need to create a GSI as described below.\n",
    "\n",
    "```\n",
    "GSI Name: GSI_01_Locations\n",
    "Partition Key: Country\n",
    "Sort Key: StateCity (concatenation of State and City, e.g. AZ#Abu Dhabi)\n",
    "```"
   ]
  },
  {
   "cell_type": "code",
   "execution_count": 54,
   "metadata": {},
   "outputs": [],
   "source": [
    "# Create a GSI with updating the table\n",
    "starbucks = starbucks.update(\n",
    "    AttributeDefinitions=[\n",
    "        {\n",
    "            'AttributeName': 'Country',\n",
    "            'AttributeType': 'S'\n",
    "        },\n",
    "        {\n",
    "            'AttributeName': 'StateCity',\n",
    "            'AttributeType': 'S'\n",
    "        }\n",
    "    ],\n",
    "    GlobalSecondaryIndexUpdates=[\n",
    "        {\n",
    "            'Create': {\n",
    "                'IndexName': 'GSI_01_Locations',\n",
    "                'KeySchema': [\n",
    "                    {\n",
    "                        'AttributeName': 'Country',\n",
    "                        'KeyType': 'HASH'\n",
    "                    },\n",
    "                    {\n",
    "                        'AttributeName': 'StateCity',\n",
    "                        'KeyType': 'RANGE'\n",
    "                    }\n",
    "                ],\n",
    "                'Projection': {\n",
    "                    'ProjectionType': 'ALL'\n",
    "                }\n",
    "            }\n",
    "        }\n",
    "    ]\n",
    ")"
   ]
  },
  {
   "cell_type": "code",
   "execution_count": 64,
   "metadata": {},
   "outputs": [
    {
     "name": "stdout",
     "output_type": "stream",
     "text": [
      "Index status:\n",
      "[{'IndexArn': 'arn:aws:dynamodb:ap-northeast-2:886100642687:table/Starbucks/index/GSI_01_Locations',\n",
      "  'IndexName': 'GSI_01_Locations',\n",
      "  'IndexSizeBytes': 0,\n",
      "  'IndexStatus': 'ACTIVE',\n",
      "  'ItemCount': 0,\n",
      "  'KeySchema': [{'AttributeName': 'Country', 'KeyType': 'HASH'},\n",
      "                {'AttributeName': 'StateCity', 'KeyType': 'RANGE'}],\n",
      "  'Projection': {'ProjectionType': 'ALL'},\n",
      "  'ProvisionedThroughput': {'NumberOfDecreasesToday': 0,\n",
      "                            'ReadCapacityUnits': 0,\n",
      "                            'WriteCapacityUnits': 0}}]\n"
     ]
    }
   ],
   "source": [
    "# Reload table information and check capacity mode\n",
    "starbucks.load()\n",
    "\n",
    "print('Index status:')\n",
    "pprint(starbucks.global_secondary_indexes)"
   ]
  },
  {
   "cell_type": "markdown",
   "metadata": {},
   "source": [
    "## Deleting a Table\n",
    "\n",
    "You can remove an unused table with the `DeleteTable` operation. It is unrecoverable."
   ]
  },
  {
   "cell_type": "code",
   "execution_count": null,
   "metadata": {},
   "outputs": [],
   "source": [
    "# Just check the command, do not delete it actually\n",
    "starbucks.delete()"
   ]
  }
 ],
 "metadata": {
  "kernelspec": {
   "display_name": "conda_python3",
   "language": "python",
   "name": "conda_python3"
  },
  "language_info": {
   "codemirror_mode": {
    "name": "ipython",
    "version": 3
   },
   "file_extension": ".py",
   "mimetype": "text/x-python",
   "name": "python",
   "nbconvert_exporter": "python",
   "pygments_lexer": "ipython3",
   "version": "3.6.10"
  },
  "toc-autonumbering": true,
  "toc-showcode": true,
  "toc-showmarkdowntxt": false
 },
 "nbformat": 4,
 "nbformat_minor": 4
}
