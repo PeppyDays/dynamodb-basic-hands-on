{
 "cells": [
  {
   "cell_type": "markdown",
   "metadata": {},
   "source": [
    "# Working with Queries\n",
    "\n",
    "The `Query` operation finds items based on primary key values. Partition key must be provided as equal condition and optionally sort key can be provided in `KeyConditionExpression` parameter to refine the results. Additionally you use `FilterExpression` and `Limit` to narrow down the results.\n",
    "\n",
    "You can use `Query` from table and indexes as well. To use an index for querying, `IndexName` should be provided. If not, DynamoDB always fetch data from the base table."
   ]
  },
  {
   "cell_type": "code",
   "execution_count": 7,
   "metadata": {},
   "outputs": [],
   "source": [
    "# import and get dynamodb resource\n",
    "import boto3\n",
    "from boto3.dynamodb.conditions import Key, Attr\n",
    "from botocore.exceptions import ClientError\n",
    "from pprint import pprint\n",
    "from decimal import Decimal\n",
    "\n",
    "dynamodb = boto3.resource('dynamodb')\n",
    "starbucks = dynamodb.Table('Starbucks')"
   ]
  },
  {
   "cell_type": "code",
   "execution_count": null,
   "metadata": {},
   "outputs": [],
   "source": [
    "items = []\n",
    "\n",
    "with open('data/directory.csv', 'r', encoding='utf-8') as f:\n",
    "    reader = csv.DictReader(\n",
    "        f,\n",
    "        fieldnames=['Brand', 'StoreNumber', 'StoreName', 'OwnershipType', 'StreetAddress', 'City', 'State', 'Country', 'Postcode', 'PhoneNumber', 'Timezone', 'Longitude', 'Latitude']\n",
    "    )\n",
    "    next(reader, None)\n",
    "    \n",
    "    for row in reader:\n",
    "        item = {key: value for key, value in row.items() if value != ''}\n",
    "        try:\n",
    "            item['Longitude'] = Decimal(item['Longitude'])\n",
    "            item['Latitude'] = Decimal(item['Latitude'])\n",
    "        except:\n",
    "            pass\n",
    "        \n",
    "        items.append(item)\n"
   ]
  },
  {
   "cell_type": "code",
   "execution_count": 6,
   "metadata": {},
   "outputs": [
    {
     "name": "stdout",
     "output_type": "stream",
     "text": [
      "{'Count': 0,\n",
      " 'Items': [],\n",
      " 'ResponseMetadata': {'HTTPHeaders': {'connection': 'keep-alive',\n",
      "                                      'content-length': '39',\n",
      "                                      'content-type': 'application/x-amz-json-1.0',\n",
      "                                      'date': 'Sun, 04 Oct 2020 18:06:30 GMT',\n",
      "                                      'server': 'Server',\n",
      "                                      'x-amz-crc32': '3413411624',\n",
      "                                      'x-amzn-requestid': '5OR4D0H5M0CVI2AB17R1MIVEC3VV4KQNSO5AEMVJF66Q9ASUAAJG'},\n",
      "                      'HTTPStatusCode': 200,\n",
      "                      'RequestId': '5OR4D0H5M0CVI2AB17R1MIVEC3VV4KQNSO5AEMVJF66Q9ASUAAJG',\n",
      "                      'RetryAttempts': 0},\n",
      " 'ScannedCount': 0}\n"
     ]
    }
   ],
   "source": [
    "# search all branches in Korea\n",
    "response = starbucks.query(\n",
    "    IndexName='GSI_01_Locations',\n",
    "    KeyConditionExpression='Country = :country',\n",
    "    ExpressionAttributeValues={\n",
    "        ':country': 'KR'\n",
    "    }\n",
    ")\n",
    "\n",
    "pprint(response)"
   ]
  },
  {
   "cell_type": "code",
   "execution_count": 4,
   "metadata": {},
   "outputs": [
    {
     "data": {
      "text/plain": [
       "[{'IndexName': 'GSI_01_Locations',\n",
       "  'KeySchema': [{'AttributeName': 'Country', 'KeyType': 'HASH'},\n",
       "   {'AttributeName': 'StateCity', 'KeyType': 'RANGE'}],\n",
       "  'Projection': {'ProjectionType': 'ALL'},\n",
       "  'IndexStatus': 'ACTIVE',\n",
       "  'ProvisionedThroughput': {'NumberOfDecreasesToday': 0,\n",
       "   'ReadCapacityUnits': 0,\n",
       "   'WriteCapacityUnits': 0},\n",
       "  'IndexSizeBytes': 0,\n",
       "  'ItemCount': 0,\n",
       "  'IndexArn': 'arn:aws:dynamodb:ap-northeast-2:886100642687:table/Starbucks/index/GSI_01_Locations'}]"
      ]
     },
     "execution_count": 4,
     "metadata": {},
     "output_type": "execute_result"
    }
   ],
   "source": [
    "starbucks.global_secondary_indexes"
   ]
  },
  {
   "cell_type": "code",
   "execution_count": null,
   "metadata": {},
   "outputs": [],
   "source": []
  }
 ],
 "metadata": {
  "kernelspec": {
   "display_name": "conda_python3",
   "language": "python",
   "name": "conda_python3"
  },
  "language_info": {
   "codemirror_mode": {
    "name": "ipython",
    "version": 3
   },
   "file_extension": ".py",
   "mimetype": "text/x-python",
   "name": "python",
   "nbconvert_exporter": "python",
   "pygments_lexer": "ipython3",
   "version": "3.6.10"
  }
 },
 "nbformat": 4,
 "nbformat_minor": 4
}
