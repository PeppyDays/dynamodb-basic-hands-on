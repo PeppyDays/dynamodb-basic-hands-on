{
 "cells": [
  {
   "cell_type": "markdown",
   "metadata": {},
   "source": [
    "# Working with Indexes\n",
    "\n",
    "A secondary index is a data structure that contains a subset of attributes from a table, along with an alternate key to support Query operations. You can retrieve data from the index using `Query` and `Scan`, in much the same way as you use with a table. A table can have multiple secondary indexes, which give your applications access to many different query patterns."
   ]
  },
  {
   "cell_type": "markdown",
   "metadata": {},
   "source": [
    "## Local Secondary Index\n",
    "\n",
    "Assume that you're modeling a database schema for flash card application. In there, each user makes their own card decks and the information is stored into DynamoDB like this.\n",
    "\n",
    "| Attribute | Something Special? | Description | Sample Values |\n",
    "| -- | -- | -- | -- |\n",
    "| UserId | Partition key | User ID |\n",
    "| DeckId | Sort key | Deck ID |\n",
    "| CardNo | Attribute | Card number |\n",
    "| FrontMessage | Attribute | Message in a card front |\n",
    "| BackMessage | Attribute | Message in a card back |\n",
    "| LastUpdatedDateTime | Attribute | The last updated date and time |\n",
    "\n",
    "This model can support queries for searching decks of a user, but there is a new requirement coming. The application developers want to get the latest decks of a specific user. In the current schema, it is difficult to avoid searching full data of a user to satisfy the requirement.\n",
    "\n",
    "To alleviate the situation, we can make a local secondary index as follows.\n",
    "\n",
    "| Attribute | Something Special? | Description | Sample Values |\n",
    "| -- | -- | -- | -- |\n",
    "| UserId | Partition key | User ID |\n",
    "| LastUpdatedDateTime | Sort key | The last updated date and time |\n",
    "\n",
    "Here is a snippet to make this table."
   ]
  },
  {
   "cell_type": "code",
   "execution_count": 4,
   "metadata": {},
   "outputs": [],
   "source": [
    "# import and get dynamodb resource\n",
    "import boto3\n",
    "from boto3.dynamodb.conditions import Key, Attr\n",
    "from botocore.exceptions import ClientError\n",
    "from pprint import pprint, pformat\n",
    "from decimal import Decimal\n",
    "import time\n",
    "import multiprocessing as mp\n",
    "import csv\n",
    "from datetime import datetime\n",
    "import uuid\n",
    "\n",
    "dynamodb = boto3.resource('dynamodb')"
   ]
  },
  {
   "cell_type": "code",
   "execution_count": 2,
   "metadata": {},
   "outputs": [],
   "source": [
    "# create a table\n",
    "flash_cards = dynamodb.create_table(\n",
    "    TableName='FlashCards',\n",
    "    AttributeDefinitions=[\n",
    "        {'AttributeName': 'UserId', 'AttributeType': 'S'},\n",
    "        {'AttributeName': 'DeckId', 'AttributeType': 'S'},\n",
    "        {'AttributeName': 'LastUpdatedDateTime', 'AttributeType': 'S'}\n",
    "    ],\n",
    "    KeySchema=[\n",
    "        {'AttributeName': 'UserId', 'KeyType': 'HASH'},\n",
    "        {'AttributeName': 'DeckId', 'KeyType': 'RANGE'}\n",
    "    ],\n",
    "    BillingMode='PAY_PER_REQUEST',\n",
    "    LocalSecondaryIndexes=[\n",
    "        {\n",
    "            'IndexName': 'LSI_01_UserIdLastUpdatedDateTime',\n",
    "            'KeySchema': [\n",
    "                {'AttributeName': 'UserId', 'KeyType': 'HASH'},\n",
    "                {'AttributeName': 'LastUpdatedDateTime', 'KeyType': 'RANGE'}\n",
    "            ],\n",
    "            'Projection': {'ProjectionType': 'ALL'}\n",
    "        }\n",
    "    ]\n",
    ")\n",
    "\n",
    "flash_cards.wait_until_exists()"
   ]
  },
  {
   "cell_type": "code",
   "execution_count": 5,
   "metadata": {},
   "outputs": [
    {
     "name": "stdout",
     "output_type": "stream",
     "text": [
      "{'Count': 6,\n",
      " 'Items': [{'BackMessage': '565a8f73cd9b42c9ba96aff6f7e77ffe',\n",
      "            'CardNo': Decimal('9'),\n",
      "            'DeckId': 'AWS',\n",
      "            'FrontMessage': '54f8349b01c74d38a4803895714a1c08',\n",
      "            'LastUpdatedDateTime': '2020-10-05 02:18:43.970576',\n",
      "            'UserId': 'kunwoong'},\n",
      "           {'BackMessage': 'f6d1627546dc431f8673338162996ef1',\n",
      "            'CardNo': Decimal('9'),\n",
      "            'DeckId': 'DynamoDB',\n",
      "            'FrontMessage': '4f453c2660ff43b299b3b77364f6d7cf',\n",
      "            'LastUpdatedDateTime': '2020-10-05 02:18:44.051005',\n",
      "            'UserId': 'kunwoong'},\n",
      "           {'BackMessage': '4df4545d898c489ab6658159c2865ad1',\n",
      "            'CardNo': Decimal('9'),\n",
      "            'DeckId': 'Python',\n",
      "            'FrontMessage': '753df996f495442d9ee6af0bb93be4d8',\n",
      "            'LastUpdatedDateTime': '2020-10-05 02:18:43.892100',\n",
      "            'UserId': 'kunwoong'},\n",
      "           {'BackMessage': 'aa518a9f00ca4733b2f04ab9c80578bb',\n",
      "            'CardNo': Decimal('9'),\n",
      "            'DeckId': 'AWS',\n",
      "            'FrontMessage': 'd7e58b0df85d42b7b01d338cd7ca21ea',\n",
      "            'LastUpdatedDateTime': '2020-10-05 02:18:43.729397',\n",
      "            'UserId': 'dongkyun'},\n",
      "           {'BackMessage': '66e993d4f23d4da490f61f7f981bbf30',\n",
      "            'CardNo': Decimal('9'),\n",
      "            'DeckId': 'DynamoDB',\n",
      "            'FrontMessage': 'bef7fd610acd4621ae3bc97ef5a5a599',\n",
      "            'LastUpdatedDateTime': '2020-10-05 02:18:43.811198',\n",
      "            'UserId': 'dongkyun'},\n",
      "           {'BackMessage': '524b5ab5fe5a4637a0c90a0d4d887937',\n",
      "            'CardNo': Decimal('9'),\n",
      "            'DeckId': 'Python',\n",
      "            'FrontMessage': 'e6a4e9b1d9e54e449d0a7ce6142da787',\n",
      "            'LastUpdatedDateTime': '2020-10-05 02:18:43.647216',\n",
      "            'UserId': 'dongkyun'}],\n",
      " 'ResponseMetadata': {'HTTPHeaders': {'connection': 'keep-alive',\n",
      "                                      'content-length': '1470',\n",
      "                                      'content-type': 'application/x-amz-json-1.0',\n",
      "                                      'date': 'Mon, 05 Oct 2020 02:18:44 GMT',\n",
      "                                      'server': 'Server',\n",
      "                                      'x-amz-crc32': '2181974617',\n",
      "                                      'x-amzn-requestid': 'RTRSC2DLPRSQ6BH44DB1MH3S33VV4KQNSO5AEMVJF66Q9ASUAAJG'},\n",
      "                      'HTTPStatusCode': 200,\n",
      "                      'RequestId': 'RTRSC2DLPRSQ6BH44DB1MH3S33VV4KQNSO5AEMVJF66Q9ASUAAJG',\n",
      "                      'RetryAttempts': 0},\n",
      " 'ScannedCount': 6}\n"
     ]
    }
   ],
   "source": [
    "# put dummy data\n",
    "users = ['dongkyun', 'kunwoong']\n",
    "decks = ['Python', 'AWS', 'DynamoDB']\n",
    "\n",
    "for user in users:\n",
    "    for deck in decks:\n",
    "        for card in range(10):\n",
    "            response = flash_cards.put_item(\n",
    "                Item={\n",
    "                    'UserId': user,\n",
    "                    'DeckId': deck,\n",
    "                    'CardNo': card,\n",
    "                    'FrontMessage': uuid.uuid4().hex,\n",
    "                    'BackMessage': uuid.uuid4().hex,\n",
    "                    'LastUpdatedDateTime': str(datetime.now())\n",
    "                }\n",
    "            )\n",
    "\n",
    "pprint(flash_cards.scan())"
   ]
  },
  {
   "cell_type": "code",
   "execution_count": 6,
   "metadata": {},
   "outputs": [
    {
     "name": "stdout",
     "output_type": "stream",
     "text": [
      "[{'IndexArn': 'arn:aws:dynamodb:ap-northeast-2:886100642687:table/FlashCards/index/LSI_01_UserIdLastUpdatedDateTime',\n",
      "  'IndexName': 'LSI_01_UserIdLastUpdatedDateTime',\n",
      "  'IndexSizeBytes': 0,\n",
      "  'ItemCount': 0,\n",
      "  'KeySchema': [{'AttributeName': 'UserId', 'KeyType': 'HASH'},\n",
      "                {'AttributeName': 'LastUpdatedDateTime', 'KeyType': 'RANGE'}],\n",
      "  'Projection': {'ProjectionType': 'ALL'}}]\n"
     ]
    }
   ],
   "source": [
    "# check secondary index information\n",
    "pprint(flash_cards.local_secondary_indexes)"
   ]
  },
  {
   "cell_type": "markdown",
   "metadata": {},
   "source": [
    "In order to use an index in queries, `IndexName` should be specified explicitly. If not, DynamoDB doesn't use any indexed and only scans from the table. For the additional query pattern mentioned above, this query can be used. The returned result set is always sorted by the table's sort key in ascending order. By just changing the sort key order - `ScanIndexForward`, we can get what we want."
   ]
  },
  {
   "cell_type": "code",
   "execution_count": 11,
   "metadata": {},
   "outputs": [
    {
     "name": "stdout",
     "output_type": "stream",
     "text": [
      "{'ConsumedCapacity': {'CapacityUnits': 0.5,\n",
      "                      'LocalSecondaryIndexes': {'LSI_01_UserIdLastUpdatedDateTime': {'CapacityUnits': 0.5}},\n",
      "                      'Table': {'CapacityUnits': 0.0},\n",
      "                      'TableName': 'FlashCards'},\n",
      " 'Count': 3,\n",
      " 'Items': [{'BackMessage': '66e993d4f23d4da490f61f7f981bbf30',\n",
      "            'CardNo': Decimal('9'),\n",
      "            'DeckId': 'DynamoDB',\n",
      "            'FrontMessage': 'bef7fd610acd4621ae3bc97ef5a5a599',\n",
      "            'LastUpdatedDateTime': '2020-10-05 02:18:43.811198',\n",
      "            'UserId': 'dongkyun'},\n",
      "           {'BackMessage': 'aa518a9f00ca4733b2f04ab9c80578bb',\n",
      "            'CardNo': Decimal('9'),\n",
      "            'DeckId': 'AWS',\n",
      "            'FrontMessage': 'd7e58b0df85d42b7b01d338cd7ca21ea',\n",
      "            'LastUpdatedDateTime': '2020-10-05 02:18:43.729397',\n",
      "            'UserId': 'dongkyun'},\n",
      "           {'BackMessage': '524b5ab5fe5a4637a0c90a0d4d887937',\n",
      "            'CardNo': Decimal('9'),\n",
      "            'DeckId': 'Python',\n",
      "            'FrontMessage': 'e6a4e9b1d9e54e449d0a7ce6142da787',\n",
      "            'LastUpdatedDateTime': '2020-10-05 02:18:43.647216',\n",
      "            'UserId': 'dongkyun'}],\n",
      " 'ResponseMetadata': {'HTTPHeaders': {'connection': 'keep-alive',\n",
      "                                      'content-length': '933',\n",
      "                                      'content-type': 'application/x-amz-json-1.0',\n",
      "                                      'date': 'Mon, 05 Oct 2020 02:22:10 GMT',\n",
      "                                      'server': 'Server',\n",
      "                                      'x-amz-crc32': '2501406812',\n",
      "                                      'x-amzn-requestid': 'UFHI3NPKN6J3M6EGBQOH00MEVRVV4KQNSO5AEMVJF66Q9ASUAAJG'},\n",
      "                      'HTTPStatusCode': 200,\n",
      "                      'RequestId': 'UFHI3NPKN6J3M6EGBQOH00MEVRVV4KQNSO5AEMVJF66Q9ASUAAJG',\n",
      "                      'RetryAttempts': 0},\n",
      " 'ScannedCount': 3}\n"
     ]
    }
   ],
   "source": [
    "# get the latest 10 decks\n",
    "response = flash_cards.query(\n",
    "    IndexName='LSI_01_UserIdLastUpdatedDateTime',\n",
    "    ExpressionAttributeValues={\n",
    "        ':user_id': 'dongkyun'\n",
    "    },\n",
    "    KeyConditionExpression='UserId = :user_id',\n",
    "    ScanIndexForward=False,\n",
    "    Limit=10,\n",
    "    ReturnConsumedCapacity='INDEXES'\n",
    ")\n",
    "\n",
    "pprint(response)"
   ]
  },
  {
   "cell_type": "markdown",
   "metadata": {},
   "source": [
    "If there is no index, we should execute this query and manipulate it in an application side."
   ]
  },
  {
   "cell_type": "code",
   "execution_count": 12,
   "metadata": {},
   "outputs": [
    {
     "name": "stdout",
     "output_type": "stream",
     "text": [
      "[{'BackMessage': '66e993d4f23d4da490f61f7f981bbf30',\n",
      "  'CardNo': Decimal('9'),\n",
      "  'DeckId': 'DynamoDB',\n",
      "  'FrontMessage': 'bef7fd610acd4621ae3bc97ef5a5a599',\n",
      "  'LastUpdatedDateTime': '2020-10-05 02:18:43.811198',\n",
      "  'UserId': 'dongkyun'},\n",
      " {'BackMessage': 'aa518a9f00ca4733b2f04ab9c80578bb',\n",
      "  'CardNo': Decimal('9'),\n",
      "  'DeckId': 'AWS',\n",
      "  'FrontMessage': 'd7e58b0df85d42b7b01d338cd7ca21ea',\n",
      "  'LastUpdatedDateTime': '2020-10-05 02:18:43.729397',\n",
      "  'UserId': 'dongkyun'},\n",
      " {'BackMessage': '524b5ab5fe5a4637a0c90a0d4d887937',\n",
      "  'CardNo': Decimal('9'),\n",
      "  'DeckId': 'Python',\n",
      "  'FrontMessage': 'e6a4e9b1d9e54e449d0a7ce6142da787',\n",
      "  'LastUpdatedDateTime': '2020-10-05 02:18:43.647216',\n",
      "  'UserId': 'dongkyun'}]\n"
     ]
    }
   ],
   "source": [
    "response = flash_cards.query(\n",
    "    ExpressionAttributeValues={\n",
    "        ':user_id': 'dongkyun'\n",
    "    },\n",
    "    KeyConditionExpression='UserId = :user_id',\n",
    "    ReturnConsumedCapacity='INDEXES'\n",
    ")\n",
    "\n",
    "latest_items = sorted(response['Items'], key=lambda item: item['LastUpdatedDateTime'], reverse=True)\n",
    "pprint(latest_items)"
   ]
  },
  {
   "cell_type": "markdown",
   "metadata": {},
   "source": [
    "Actually, we don't need to make addional local index for this use case. If we make the sort key as the combination of LastUpdatedDateTime and DeckId, we can satisfy the access patterns without indexes. This tutorial is only for exercise."
   ]
  },
  {
   "cell_type": "markdown",
   "metadata": {},
   "source": [
    "## Global Secondary Index\n",
    "\n",
    "In this section, we're going to use webserver log file located `data/logfile_medium1.csv`. Since the file content is quite simple, you can recognize it after opening the file. The partition key is request ID in the first column and no sort key."
   ]
  },
  {
   "cell_type": "code",
   "execution_count": 13,
   "metadata": {},
   "outputs": [],
   "source": [
    "# create a table\n",
    "logs = dynamodb.create_table(\n",
    "    TableName='Logs',\n",
    "    AttributeDefinitions=[\n",
    "        {'AttributeName': 'RequestId', 'AttributeType': 'S'}\n",
    "    ],\n",
    "    KeySchema=[\n",
    "        {'AttributeName': 'RequestId', 'KeyType': 'HASH'}\n",
    "    ],\n",
    "    BillingMode='PAY_PER_REQUEST'\n",
    ")\n",
    "\n",
    "logs.wait_until_exists()"
   ]
  },
  {
   "cell_type": "code",
   "execution_count": 14,
   "metadata": {},
   "outputs": [],
   "source": [
    "# import data, only 100 rows to save our time\n",
    "items = []\n",
    "\n",
    "with open('data/logfile_medium1.csv', 'r', encoding='utf-8') as f:\n",
    "    reader = csv.DictReader(f, fieldnames=['RequestId', 'IP', 'Date', 'Hour', 'Timezone', 'HttpMethod', 'Path', 'ResponseCode', 'Bytes', 'Client'])\n",
    "    \n",
    "    for row in reader:\n",
    "        item = {key: value for key, value in row.items() if value != ''}\n",
    "        item['RequestId'] = 'Request#' + item['RequestId']\n",
    "        item['ResponseCode'] = int(item['ResponseCode'])\n",
    "        item['Bytes'] = int(item['Bytes'])\n",
    "    \n",
    "        items.append(item)\n",
    "\n",
    "with logs.batch_writer() as batch:\n",
    "    for item in items[:100]:\n",
    "        batch.put_item(Item=item)"
   ]
  },
  {
   "cell_type": "markdown",
   "metadata": {},
   "source": [
    "As a batch process, a new requirement that fetch data for a specific day with response code filter, such as `Date = '2017-07-20' and ResponseCode = 302`. In the current schema, there is no way but to scan all table items.\n",
    "\n",
    "By creating a global secondary index (PK: `Date`, SK: `ResponseCode`), we can satisfy the new query pattern. Global secondary index can be created after table creation with `Update` call."
   ]
  },
  {
   "cell_type": "code",
   "execution_count": 15,
   "metadata": {},
   "outputs": [
    {
     "name": "stdout",
     "output_type": "stream",
     "text": [
      "'CREATING'\n"
     ]
    }
   ],
   "source": [
    "# add GSI\n",
    "logs = logs.update(\n",
    "    AttributeDefinitions=[\n",
    "        {'AttributeName': 'Date', 'AttributeType': 'S'},\n",
    "        {'AttributeName': 'ResponseCode', 'AttributeType': 'N'}\n",
    "    ],\n",
    "    GlobalSecondaryIndexUpdates=[\n",
    "        {\n",
    "            'Create': {\n",
    "                'IndexName': 'IndexDateResponseCode',\n",
    "                'KeySchema': [\n",
    "                    {'AttributeName': 'Date', 'KeyType': 'HASH'},\n",
    "                    {'AttributeName': 'ResponseCode', 'KeyType': 'RANGE'}\n",
    "                ],\n",
    "                'Projection': {\n",
    "                    'ProjectionType': 'INCLUDE',\n",
    "                    'NonKeyAttributes': ['Hour', 'Timezone', 'Path']\n",
    "                }\n",
    "            }\n",
    "        }\n",
    "    ]\n",
    ")\n",
    "\n",
    "gsi_status = logs.global_secondary_indexes[0]['IndexStatus']\n",
    "pprint(gsi_status)"
   ]
  },
  {
   "cell_type": "code",
   "execution_count": 16,
   "metadata": {},
   "outputs": [
    {
     "name": "stdout",
     "output_type": "stream",
     "text": [
      "2020-10-05 02:33:41.819176: CREATING\n",
      "2020-10-05 02:34:11.859253: CREATING\n"
     ]
    }
   ],
   "source": [
    "while gsi_status != 'ACTIVE':\n",
    "    print('{}: {}'.format(datetime.now(), gsi_status))\n",
    "    gsi_status = dynamodb.Table('Logs').global_secondary_indexes[0]['IndexStatus']\n",
    "    time.sleep(30)"
   ]
  },
  {
   "cell_type": "markdown",
   "metadata": {},
   "source": [
    "The usage pattern of global secondary index is completely same. To get the new query pattern with `Date` and `ResponseCode`, we can make this query."
   ]
  },
  {
   "cell_type": "code",
   "execution_count": 17,
   "metadata": {},
   "outputs": [
    {
     "name": "stdout",
     "output_type": "stream",
     "text": [
      "{'ConsumedCapacity': {'CapacityUnits': 0.5,\n",
      "                      'GlobalSecondaryIndexes': {'IndexDateResponseCode': {'CapacityUnits': 0.5}},\n",
      "                      'Table': {'CapacityUnits': 0.0},\n",
      "                      'TableName': 'Logs'},\n",
      " 'Count': 5,\n",
      " 'Items': [{'Date': '2017-07-20',\n",
      "            'Hour': '20',\n",
      "            'Path': '/gallery/main.php?g2_itemId=17878&g2_highlightId=17974',\n",
      "            'RequestId': 'Request#57',\n",
      "            'ResponseCode': Decimal('302'),\n",
      "            'Timezone': 'GMT-0700'},\n",
      "           {'Date': '2017-07-20',\n",
      "            'Hour': '20',\n",
      "            'Path': '/gallery/main.php?g2_highlightId=685',\n",
      "            'RequestId': 'Request#47',\n",
      "            'ResponseCode': Decimal('302'),\n",
      "            'Timezone': 'GMT-0700'},\n",
      "           {'Date': '2017-07-20',\n",
      "            'Hour': '20',\n",
      "            'Path': '/gallery/main.php?g2_itemId=24659&g2_highlightId=24674',\n",
      "            'RequestId': 'Request#20',\n",
      "            'ResponseCode': Decimal('302'),\n",
      "            'Timezone': 'GMT-0700'},\n",
      "           {'Date': '2017-07-20',\n",
      "            'Hour': '20',\n",
      "            'Path': '/gallery/main.php?g2_controller=exif.SwitchDetailMode&g2_mode=detailed&g2_return=%2Fgallery%2Fmain.php%3Fg2_itemId%3D12804&g2_returnName=photo',\n",
      "            'RequestId': 'Request#50',\n",
      "            'ResponseCode': Decimal('302'),\n",
      "            'Timezone': 'GMT-0700'},\n",
      "           {'Date': '2017-07-20',\n",
      "            'Hour': '20',\n",
      "            'Path': '/gallery/main.php?g2_itemId=15371&g2_highlightId=15786',\n",
      "            'RequestId': 'Request#88',\n",
      "            'ResponseCode': Decimal('302'),\n",
      "            'Timezone': 'GMT-0700'}],\n",
      " 'LastEvaluatedKey': {'Date': '2017-07-20',\n",
      "                      'RequestId': 'Request#88',\n",
      "                      'ResponseCode': Decimal('302')},\n",
      " 'ResponseMetadata': {'HTTPHeaders': {'connection': 'keep-alive',\n",
      "                                      'content-length': '1386',\n",
      "                                      'content-type': 'application/x-amz-json-1.0',\n",
      "                                      'date': 'Mon, 05 Oct 2020 02:37:38 GMT',\n",
      "                                      'server': 'Server',\n",
      "                                      'x-amz-crc32': '2504095896',\n",
      "                                      'x-amzn-requestid': '6UFLV96HP8U5SF6KTHDB3U6IE3VV4KQNSO5AEMVJF66Q9ASUAAJG'},\n",
      "                      'HTTPStatusCode': 200,\n",
      "                      'RequestId': '6UFLV96HP8U5SF6KTHDB3U6IE3VV4KQNSO5AEMVJF66Q9ASUAAJG',\n",
      "                      'RetryAttempts': 0},\n",
      " 'ScannedCount': 5}\n"
     ]
    }
   ],
   "source": [
    "response = logs.query(\n",
    "    IndexName='IndexDateResponseCode',\n",
    "    KeyConditionExpression=Key('Date').eq('2017-07-20') & Key('ResponseCode').eq(302),\n",
    "    Limit=5,\n",
    "    ReturnConsumedCapacity='INDEXES'\n",
    ")\n",
    "\n",
    "pprint(response)"
   ]
  },
  {
   "cell_type": "code",
   "execution_count": null,
   "metadata": {},
   "outputs": [],
   "source": []
  }
 ],
 "metadata": {
  "kernelspec": {
   "display_name": "conda_python3",
   "language": "python",
   "name": "conda_python3"
  },
  "language_info": {
   "codemirror_mode": {
    "name": "ipython",
    "version": 3
   },
   "file_extension": ".py",
   "mimetype": "text/x-python",
   "name": "python",
   "nbconvert_exporter": "python",
   "pygments_lexer": "ipython3",
   "version": "3.6.10"
  }
 },
 "nbformat": 4,
 "nbformat_minor": 4
}
