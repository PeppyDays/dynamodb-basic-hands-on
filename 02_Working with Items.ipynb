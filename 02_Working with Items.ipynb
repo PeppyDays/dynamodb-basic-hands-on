{
 "cells": [
  {
   "cell_type": "markdown",
   "metadata": {},
   "source": [
    "# Working with Items\n",
    "\n",
    "DynamoDB provides four operations for basic create, read, update, and delete (CRUD) functionality described below. Each of these operations requires primary key of the item that you want to work with.\n",
    "\n",
    "- `PutItem` creates an item\n",
    "- `GetItem` reads an item\n",
    "- `UpdateItem` updates an item\n",
    "- `DeleteItem` deletes an item\n",
    "\n",
    "In addition to the basic operations, DynamoDB also provides batch operations.\n",
    "\n",
    "- `BatchGetItem` reads up to 100 items from one or more tables\n",
    "- `BatchWriteItem` creates or deletes up to 25 items in one or more tables\n",
    "\n",
    "To see how many capacity units are used for each operation, we can add `ReturnConsumedCapacity` parameter to one of the following. In this hands on, we always add the parameter to review consumed capacity units.\n",
    "\n",
    "- `TOTAL` returns the total number of write capacity units consumed\n",
    "- `INDEXES` returns the total number of write capacity units consumed, with subtotals for the table and any secondary indexes that were affected by the operation\n",
    "- `NONE` is default and nothing returned"
   ]
  },
  {
   "cell_type": "code",
   "execution_count": 2,
   "metadata": {},
   "outputs": [],
   "source": [
    "# import and get dynamodb resource\n",
    "import boto3\n",
    "from boto3.dynamodb.conditions import Key, Attr\n",
    "from botocore.exceptions import ClientError\n",
    "from pprint import pprint\n",
    "from decimal import Decimal\n",
    "\n",
    "dynamodb = boto3.resource('dynamodb')\n",
    "starbucks = dynamodb.Table('Starbucks')"
   ]
  },
  {
   "cell_type": "markdown",
   "metadata": {},
   "source": [
    "## PutItem\n",
    "\n",
    "`PutItem` creates a new item or replaces an existing item if the same key already exists."
   ]
  },
  {
   "cell_type": "code",
   "execution_count": 4,
   "metadata": {},
   "outputs": [
    {
     "name": "stdout",
     "output_type": "stream",
     "text": [
      "{'ConsumedCapacity': {'CapacityUnits': 1.0,\n",
      "                      'Table': {'CapacityUnits': 1.0},\n",
      "                      'TableName': 'Starbucks'},\n",
      " 'ResponseMetadata': {'HTTPHeaders': {'connection': 'keep-alive',\n",
      "                                      'content-length': '96',\n",
      "                                      'content-type': 'application/x-amz-json-1.0',\n",
      "                                      'date': 'Sat, 03 Oct 2020 16:14:00 GMT',\n",
      "                                      'server': 'Server',\n",
      "                                      'x-amz-crc32': '2831772805',\n",
      "                                      'x-amzn-requestid': 'TBVQO8FRO1TK1FG65HERFC61M3VV4KQNSO5AEMVJF66Q9ASUAAJG'},\n",
      "                      'HTTPStatusCode': 200,\n",
      "                      'RequestId': 'TBVQO8FRO1TK1FG65HERFC61M3VV4KQNSO5AEMVJF66Q9ASUAAJG',\n",
      "                      'RetryAttempts': 0}}\n"
     ]
    }
   ],
   "source": [
    "response = starbucks.put_item(\n",
    "    Item={\n",
    "        'StoreNumber': '2871-99023',\n",
    "        'StoreName': 'Beomgye Station',\n",
    "        'Brand': 'Starbucks'\n",
    "    },\n",
    "    ReturnConsumedCapacity='INDEXES'\n",
    ")\n",
    "\n",
    "pprint(response)"
   ]
  },
  {
   "cell_type": "code",
   "execution_count": 6,
   "metadata": {},
   "outputs": [
    {
     "name": "stdout",
     "output_type": "stream",
     "text": [
      "{'ConsumedCapacity': {'CapacityUnits': 1.0,\n",
      "                      'Table': {'CapacityUnits': 1.0},\n",
      "                      'TableName': 'Starbucks'},\n",
      " 'ResponseMetadata': {'HTTPHeaders': {'connection': 'keep-alive',\n",
      "                                      'content-length': '96',\n",
      "                                      'content-type': 'application/x-amz-json-1.0',\n",
      "                                      'date': 'Sat, 03 Oct 2020 16:14:30 GMT',\n",
      "                                      'server': 'Server',\n",
      "                                      'x-amz-crc32': '2831772805',\n",
      "                                      'x-amzn-requestid': '3A6LMF9PS7606E4CRQK1OQPT03VV4KQNSO5AEMVJF66Q9ASUAAJG'},\n",
      "                      'HTTPStatusCode': 200,\n",
      "                      'RequestId': '3A6LMF9PS7606E4CRQK1OQPT03VV4KQNSO5AEMVJF66Q9ASUAAJG',\n",
      "                      'RetryAttempts': 0}}\n"
     ]
    }
   ],
   "source": [
    "response = starbucks.put_item(\n",
    "    Item={\n",
    "        'StoreNumber': '283-11902',\n",
    "        'StoreName': 'GS Building B1F',\n",
    "        'Brand': 'Starbucks'\n",
    "    },\n",
    "    ReturnConsumedCapacity='INDEXES'\n",
    ")\n",
    "\n",
    "pprint(response)"
   ]
  },
  {
   "cell_type": "markdown",
   "metadata": {},
   "source": [
    "What if you want to only put item, not replace the existing item? In this case, you should use condition expressions you will learn quite soon. Condition expression determines which items should be modified. If the condition expression evaluates to true, the operation succeeds; otherwise, the operation fails."
   ]
  },
  {
   "cell_type": "markdown",
   "metadata": {},
   "source": [
    "## GetItem\n",
    "\n",
    "Retrieving an item is done with `GetItem`. With `GetItem`, you must specify the entire primary key, not just part of it. You can use `ProjectionExpression` option to return only particular attributes from an item.\n",
    "\n",
    "A `GetItem` request performs an eventually consistent read by default. You can use the `ConsistentRead` parameter to request a strongly consistent read instead. This consumes additional read capacity units, but it returns the most up-to-date version of the item."
   ]
  },
  {
   "cell_type": "code",
   "execution_count": 8,
   "metadata": {},
   "outputs": [
    {
     "name": "stdout",
     "output_type": "stream",
     "text": [
      "{'ConsumedCapacity': {'CapacityUnits': 0.5,\n",
      "                      'Table': {'CapacityUnits': 0.5},\n",
      "                      'TableName': 'Starbucks'},\n",
      " 'Item': {'Brand': 'Starbucks',\n",
      "          'StoreName': 'GS Building B1F',\n",
      "          'StoreNumber': '283-11902'},\n",
      " 'ResponseMetadata': {'HTTPHeaders': {'connection': 'keep-alive',\n",
      "                                      'content-length': '199',\n",
      "                                      'content-type': 'application/x-amz-json-1.0',\n",
      "                                      'date': 'Sat, 03 Oct 2020 16:15:16 GMT',\n",
      "                                      'server': 'Server',\n",
      "                                      'x-amz-crc32': '1609122443',\n",
      "                                      'x-amzn-requestid': '2VG4OQC03F0HLJ0JTISALJHS9BVV4KQNSO5AEMVJF66Q9ASUAAJG'},\n",
      "                      'HTTPStatusCode': 200,\n",
      "                      'RequestId': '2VG4OQC03F0HLJ0JTISALJHS9BVV4KQNSO5AEMVJF66Q9ASUAAJG',\n",
      "                      'RetryAttempts': 0}}\n"
     ]
    }
   ],
   "source": [
    "response = starbucks.get_item(\n",
    "    Key={\n",
    "        'StoreNumber': '283-11902'\n",
    "    },\n",
    "    ReturnConsumedCapacity='INDEXES'\n",
    ")\n",
    "\n",
    "pprint(response)"
   ]
  },
  {
   "cell_type": "code",
   "execution_count": 18,
   "metadata": {},
   "outputs": [
    {
     "name": "stdout",
     "output_type": "stream",
     "text": [
      "{'ConsumedCapacity': {'CapacityUnits': 0.5,\n",
      "                      'Table': {'CapacityUnits': 0.5},\n",
      "                      'TableName': 'Starbucks'},\n",
      " 'Item': {'StoreName': 'GS Building B1F'},\n",
      " 'ResponseMetadata': {'HTTPHeaders': {'connection': 'keep-alive',\n",
      "                                      'content-length': '141',\n",
      "                                      'content-type': 'application/x-amz-json-1.0',\n",
      "                                      'date': 'Sun, 04 Oct 2020 15:06:38 GMT',\n",
      "                                      'server': 'Server',\n",
      "                                      'x-amz-crc32': '245861484',\n",
      "                                      'x-amzn-requestid': 'O0S722P0U6C4VVI5O9A1ADGR97VV4KQNSO5AEMVJF66Q9ASUAAJG'},\n",
      "                      'HTTPStatusCode': 200,\n",
      "                      'RequestId': 'O0S722P0U6C4VVI5O9A1ADGR97VV4KQNSO5AEMVJF66Q9ASUAAJG',\n",
      "                      'RetryAttempts': 0}}\n"
     ]
    }
   ],
   "source": [
    "# it returns only StoreName attribute, but the consumed capacity is same\n",
    "response = starbucks.get_item(\n",
    "    Key={\n",
    "        'StoreNumber': '283-11902'\n",
    "    },\n",
    "    ProjectionExpression='StoreName',\n",
    "    ReturnConsumedCapacity='INDEXES'\n",
    ")\n",
    "\n",
    "pprint(response)"
   ]
  },
  {
   "cell_type": "code",
   "execution_count": 19,
   "metadata": {},
   "outputs": [
    {
     "name": "stdout",
     "output_type": "stream",
     "text": [
      "{'ConsumedCapacity': {'CapacityUnits': 1.0,\n",
      "                      'Table': {'CapacityUnits': 1.0},\n",
      "                      'TableName': 'Starbucks'},\n",
      " 'Item': {'Brand': 'Starbucks',\n",
      "          'StoreName': 'GS Building B1F',\n",
      "          'StoreNumber': '283-11902'},\n",
      " 'ResponseMetadata': {'HTTPHeaders': {'connection': 'keep-alive',\n",
      "                                      'content-length': '199',\n",
      "                                      'content-type': 'application/x-amz-json-1.0',\n",
      "                                      'date': 'Sun, 04 Oct 2020 15:06:51 GMT',\n",
      "                                      'server': 'Server',\n",
      "                                      'x-amz-crc32': '1203189529',\n",
      "                                      'x-amzn-requestid': 'HUSN9G80SA2D7JK8B0HI0N7NNJVV4KQNSO5AEMVJF66Q9ASUAAJG'},\n",
      "                      'HTTPStatusCode': 200,\n",
      "                      'RequestId': 'HUSN9G80SA2D7JK8B0HI0N7NNJVV4KQNSO5AEMVJF66Q9ASUAAJG',\n",
      "                      'RetryAttempts': 0}}\n"
     ]
    }
   ],
   "source": [
    "# consistent read consumes 2x\n",
    "response = starbucks.get_item(\n",
    "    Key={\n",
    "        'StoreNumber': '283-11902'\n",
    "    },\n",
    "    ConsistentRead=True,\n",
    "    ReturnConsumedCapacity='INDEXES'\n",
    ")\n",
    "\n",
    "pprint(response)"
   ]
  },
  {
   "cell_type": "markdown",
   "metadata": {},
   "source": [
    "## UpdateItem\n",
    "\n",
    "`UpdateItem` call is to update an existing item by modifying one or two attributes, but leaving the other attributes unchanged. When using `UpdateItem` action, you need to specify an update expression.\n",
    "\n",
    "Update expression should include at least one of four update clauses.\n",
    "\n",
    "- `SET` adds an attribute to an item or modify an existing attribute\n",
    "- `REMOVE` deletes attributes\n",
    "- `ADD` increases or decreases a number or insert elements into a set\n",
    "- `DELETE` removes one or more elements from a set\n",
    "\n",
    "You use an update expression to specify the attributes that you want to modify and their new values. Within the update expression, you use expression attribute values as placeholders for the actual values. For update expression and expression attribute values, these will be covered again soon.\n",
    "\n",
    "`ReturnValues` parameter configures if `UpdateItem` call will return the item attributes as they appeared before or after they are updated. You can specify one of these options.\n",
    "\n",
    "- `None` returns nothing, that is default\n",
    "- `ALL_OLD` returns all of the attributes of the item before updating\n",
    "- `UPDATED_OLD` returns only the updated attributes before updating\n",
    "- `ALL_NEW` returns all of the attributes of the item after updating\n",
    "- `UPDATED_NEW` returns only the updated attributes after updating\n",
    "\n",
    "`ReturnValues` parameter can be set in `PutItem` and `DeleteItem` as well. With `PutItem` and `DeleteItem`, `ALL_OLD` is supported option due to the operations' characteristic."
   ]
  },
  {
   "cell_type": "code",
   "execution_count": 25,
   "metadata": {},
   "outputs": [
    {
     "name": "stdout",
     "output_type": "stream",
     "text": [
      "{'Attributes': {'Manager': 'Dongkyun',\n",
      "                'StoreName': 'Jeju Airport #0',\n",
      "                'StoreNumber': '3912-3765'},\n",
      " 'ConsumedCapacity': {'CapacityUnits': 1.0,\n",
      "                      'Table': {'CapacityUnits': 1.0},\n",
      "                      'TableName': 'Starbucks'},\n",
      " 'ResponseMetadata': {'HTTPHeaders': {'connection': 'keep-alive',\n",
      "                                      'content-length': '206',\n",
      "                                      'content-type': 'application/x-amz-json-1.0',\n",
      "                                      'date': 'Sun, 04 Oct 2020 15:15:05 GMT',\n",
      "                                      'server': 'Server',\n",
      "                                      'x-amz-crc32': '3125944622',\n",
      "                                      'x-amzn-requestid': 'Q3LC8HIDITF023L7MH1534Q24VVV4KQNSO5AEMVJF66Q9ASUAAJG'},\n",
      "                      'HTTPStatusCode': 200,\n",
      "                      'RequestId': 'Q3LC8HIDITF023L7MH1534Q24VVV4KQNSO5AEMVJF66Q9ASUAAJG',\n",
      "                      'RetryAttempts': 0}}\n"
     ]
    }
   ],
   "source": [
    "# The key doesn't exist before, so this actually will put a new item\n",
    "# ReturnValues parameter will make additional Attributes key in the result\n",
    "response = starbucks.update_item(\n",
    "    Key={\n",
    "        'StoreNumber': '3912-3765'\n",
    "    },\n",
    "    UpdateExpression='SET StoreName = :store_name, Manager = :manager',\n",
    "    ExpressionAttributeValues={\n",
    "        ':store_name': 'Jeju Airport #0',\n",
    "        ':manager': 'Dongkyun'\n",
    "    },\n",
    "    ReturnConsumedCapacity='INDEXES',\n",
    "    ReturnValues='ALL_NEW'\n",
    ")\n",
    "\n",
    "pprint(response)"
   ]
  },
  {
   "cell_type": "code",
   "execution_count": 26,
   "metadata": {},
   "outputs": [
    {
     "name": "stdout",
     "output_type": "stream",
     "text": [
      "{'Attributes': {'StoreName': 'Jeju Airport #0', 'StoreNumber': '3912-3765'},\n",
      " 'ConsumedCapacity': {'CapacityUnits': 1.0,\n",
      "                      'Table': {'CapacityUnits': 1.0},\n",
      "                      'TableName': 'Starbucks'},\n",
      " 'ResponseMetadata': {'HTTPHeaders': {'connection': 'keep-alive',\n",
      "                                      'content-length': '179',\n",
      "                                      'content-type': 'application/x-amz-json-1.0',\n",
      "                                      'date': 'Sun, 04 Oct 2020 15:20:24 GMT',\n",
      "                                      'server': 'Server',\n",
      "                                      'x-amz-crc32': '1991031691',\n",
      "                                      'x-amzn-requestid': 'L7ADH32BVN7DHL062OMKIV458VVV4KQNSO5AEMVJF66Q9ASUAAJG'},\n",
      "                      'HTTPStatusCode': 200,\n",
      "                      'RequestId': 'L7ADH32BVN7DHL062OMKIV458VVV4KQNSO5AEMVJF66Q9ASUAAJG',\n",
      "                      'RetryAttempts': 0}}\n"
     ]
    }
   ],
   "source": [
    "response = starbucks.update_item(\n",
    "    Key={\n",
    "        'StoreNumber': '3912-3765'\n",
    "    },\n",
    "    UpdateExpression='REMOVE Manager',\n",
    "    ReturnValues='ALL_NEW',\n",
    "    ReturnConsumedCapacity='INDEXES'\n",
    ")\n",
    "\n",
    "pprint(response)"
   ]
  },
  {
   "cell_type": "code",
   "execution_count": 38,
   "metadata": {},
   "outputs": [
    {
     "name": "stdout",
     "output_type": "stream",
     "text": [
      "{'Attributes': {'Brand': 'Starbucks',\n",
      "                'Employees': {'Alex',\n",
      "                              'Donald',\n",
      "                              'Huang',\n",
      "                              'Jan',\n",
      "                              'Sam',\n",
      "                              'Susie',\n",
      "                              'Tom'},\n",
      "                'NumberOfEmployees': Decimal('7'),\n",
      "                'StoreName': 'Worldcup Stadium',\n",
      "                'StoreNumber': '92512-73'},\n",
      " 'ConsumedCapacity': {'CapacityUnits': 1.0,\n",
      "                      'Table': {'CapacityUnits': 1.0},\n",
      "                      'TableName': 'Starbucks'},\n",
      " 'ResponseMetadata': {'HTTPHeaders': {'connection': 'keep-alive',\n",
      "                                      'content-length': '306',\n",
      "                                      'content-type': 'application/x-amz-json-1.0',\n",
      "                                      'date': 'Sun, 04 Oct 2020 16:06:12 GMT',\n",
      "                                      'server': 'Server',\n",
      "                                      'x-amz-crc32': '2006098276',\n",
      "                                      'x-amzn-requestid': '3OQA0LTVVFO0CRJ4F51NRVNNF7VV4KQNSO5AEMVJF66Q9ASUAAJG'},\n",
      "                      'HTTPStatusCode': 200,\n",
      "                      'RequestId': '3OQA0LTVVFO0CRJ4F51NRVNNF7VV4KQNSO5AEMVJF66Q9ASUAAJG',\n",
      "                      'RetryAttempts': 0}}\n"
     ]
    }
   ],
   "source": [
    "starbucks.put_item(\n",
    "    Item={\n",
    "        'StoreNumber': '92512-73',\n",
    "        'StoreName': 'Worldcup Stadium',\n",
    "        'Brand': 'Starbucks',\n",
    "        'NumberOfEmployees': 5,\n",
    "        'Employees': {'Sam', 'Tom', 'Donald', 'Susie', 'Jan'}\n",
    "    },\n",
    "    ReturnConsumedCapacity='INDEXES'\n",
    ")\n",
    "\n",
    "response = starbucks.update_item(\n",
    "    Key={\n",
    "        'StoreNumber': '92512-73'\n",
    "    },\n",
    "    UpdateExpression='ADD NumberOfEmployees :q, Employees :e',\n",
    "    ExpressionAttributeValues={\n",
    "        ':q': 2,\n",
    "        ':e': {'Huang', 'Alex'}\n",
    "    },\n",
    "    ReturnValues='ALL_NEW',\n",
    "    ReturnConsumedCapacity='INDEXES'\n",
    ")\n",
    "\n",
    "pprint(response)"
   ]
  },
  {
   "cell_type": "code",
   "execution_count": 39,
   "metadata": {},
   "outputs": [
    {
     "name": "stdout",
     "output_type": "stream",
     "text": [
      "{'Attributes': {'Brand': 'Starbucks',\n",
      "                'Employees': {'Alex',\n",
      "                              'Donald',\n",
      "                              'Huang',\n",
      "                              'Jan',\n",
      "                              'Sam',\n",
      "                              'Susie',\n",
      "                              'Tom'},\n",
      "                'NumberOfEmployees': Decimal('9'),\n",
      "                'StoreName': 'Worldcup Stadium',\n",
      "                'StoreNumber': '92512-73'},\n",
      " 'ConsumedCapacity': {'CapacityUnits': 1.0,\n",
      "                      'Table': {'CapacityUnits': 1.0},\n",
      "                      'TableName': 'Starbucks'},\n",
      " 'ResponseMetadata': {'HTTPHeaders': {'connection': 'keep-alive',\n",
      "                                      'content-length': '306',\n",
      "                                      'content-type': 'application/x-amz-json-1.0',\n",
      "                                      'date': 'Sun, 04 Oct 2020 16:06:33 GMT',\n",
      "                                      'server': 'Server',\n",
      "                                      'x-amz-crc32': '1132421885',\n",
      "                                      'x-amzn-requestid': 'I2EU8O5PDQ3OT1IVUNH4385HFVVV4KQNSO5AEMVJF66Q9ASUAAJG'},\n",
      "                      'HTTPStatusCode': 200,\n",
      "                      'RequestId': 'I2EU8O5PDQ3OT1IVUNH4385HFVVV4KQNSO5AEMVJF66Q9ASUAAJG',\n",
      "                      'RetryAttempts': 0}}\n"
     ]
    }
   ],
   "source": [
    "# generally we recommend using SET rather than ADD\n",
    "# With SET, ADD can be implemented like this\n",
    "response = starbucks.update_item(\n",
    "    Key={\n",
    "        'StoreNumber': '92512-73'\n",
    "    },\n",
    "    UpdateExpression='SET NumberOfEmployees = NumberOfEmployees + :q',\n",
    "    ExpressionAttributeValues={\n",
    "        ':q': 2\n",
    "    },\n",
    "    ReturnValues='ALL_NEW',\n",
    "    ReturnConsumedCapacity='INDEXES'\n",
    ")\n",
    "\n",
    "pprint(response)"
   ]
  },
  {
   "cell_type": "markdown",
   "metadata": {},
   "source": [
    "## DeleteItem\n",
    "\n",
    "`DeleteItem` deletes the item with the specified key. You can add condition expression to only delete an item under certain conditions."
   ]
  },
  {
   "cell_type": "code",
   "execution_count": 40,
   "metadata": {},
   "outputs": [
    {
     "name": "stdout",
     "output_type": "stream",
     "text": [
      "{'ConsumedCapacity': {'CapacityUnits': 1.0,\n",
      "                      'Table': {'CapacityUnits': 1.0},\n",
      "                      'TableName': 'Starbucks'},\n",
      " 'ResponseMetadata': {'HTTPHeaders': {'connection': 'keep-alive',\n",
      "                                      'content-length': '96',\n",
      "                                      'content-type': 'application/x-amz-json-1.0',\n",
      "                                      'date': 'Sun, 04 Oct 2020 16:07:09 GMT',\n",
      "                                      'server': 'Server',\n",
      "                                      'x-amz-crc32': '2831772805',\n",
      "                                      'x-amzn-requestid': 'BHMSFER3GIINVA7TFE7D1IOD3VVV4KQNSO5AEMVJF66Q9ASUAAJG'},\n",
      "                      'HTTPStatusCode': 200,\n",
      "                      'RequestId': 'BHMSFER3GIINVA7TFE7D1IOD3VVV4KQNSO5AEMVJF66Q9ASUAAJG',\n",
      "                      'RetryAttempts': 0}}\n"
     ]
    }
   ],
   "source": [
    "response = starbucks.delete_item(\n",
    "    Key={\n",
    "        'StoreNumber': '283-11902'\n",
    "    },\n",
    "    ReturnConsumedCapacity='INDEXES'\n",
    ")\n",
    "\n",
    "pprint(response)"
   ]
  },
  {
   "cell_type": "markdown",
   "metadata": {},
   "source": [
    "## Expression\n",
    "\n",
    "In DynamoDB, you use expressions for various reasons.\n",
    "\n",
    "- Projection expression is already covered in `GetItem` section, which is simple attribute name concatenation\n",
    "- Condition expression\n",
    "- Update expression is already covered in `UpdateItem` section, you can fully utilize it after reading grammar of expressions\n",
    "\n",
    "To describe the usage of expressions, you could use basic expression grammar and the available kinds of expressions."
   ]
  },
  {
   "cell_type": "markdown",
   "metadata": {},
   "source": [
    "### Specifying Item Attributes\n",
    "\n",
    "- Top-level attributes: use the attribute name\n",
    "- Nested attributes: . (dot) for map, \\[n\\] for list"
   ]
  },
  {
   "cell_type": "markdown",
   "metadata": {},
   "source": [
    "### Expression Attribute Names\n",
    "\n",
    "An expression attribute name is an alternative to an actual attribute name. An expression attribute name must begin with a pound sign (#). There are some reasons why you need to use expression attribute name.\n",
    "\n",
    "- Reserved words\n",
    "- Attribute names containing dots\n",
    "- Nested attributes\n",
    "- Repeating attribute names"
   ]
  },
  {
   "cell_type": "code",
   "execution_count": 41,
   "metadata": {},
   "outputs": [
    {
     "name": "stdout",
     "output_type": "stream",
     "text": [
      "{'ConsumedCapacity': {'CapacityUnits': 1.0,\n",
      "                      'Table': {'CapacityUnits': 1.0},\n",
      "                      'TableName': 'Starbucks'},\n",
      " 'ResponseMetadata': {'HTTPHeaders': {'connection': 'keep-alive',\n",
      "                                      'content-length': '96',\n",
      "                                      'content-type': 'application/x-amz-json-1.0',\n",
      "                                      'date': 'Sun, 04 Oct 2020 16:07:29 GMT',\n",
      "                                      'server': 'Server',\n",
      "                                      'x-amz-crc32': '2831772805',\n",
      "                                      'x-amzn-requestid': 'BD4RKL9OF0I3VIELV2T4N1A53NVV4KQNSO5AEMVJF66Q9ASUAAJG'},\n",
      "                      'HTTPStatusCode': 200,\n",
      "                      'RequestId': 'BD4RKL9OF0I3VIELV2T4N1A53NVV4KQNSO5AEMVJF66Q9ASUAAJG',\n",
      "                      'RetryAttempts': 0}}\n"
     ]
    }
   ],
   "source": [
    "response = starbucks.update_item(\n",
    "    Key={\n",
    "        'StoreNumber': '92512-73'\n",
    "    },\n",
    "    UpdateExpression='SET #no_emp = NumberOfEmployees + :q',\n",
    "    ExpressionAttributeNames={\n",
    "        '#no_emp': 'NumberOfEmployees'\n",
    "    },\n",
    "    ExpressionAttributeValues={\n",
    "        ':q': 2\n",
    "    },\n",
    "    ReturnConsumedCapacity='INDEXES'\n",
    ")\n",
    "\n",
    "pprint(response)"
   ]
  },
  {
   "cell_type": "markdown",
   "metadata": {},
   "source": [
    "### Expression Attribute Values\n",
    "\n",
    "Expression attribute values are substitutes for the actual values that you want to compare — values that you might not know until runtime. An expression attribute value must begin with a colon (:).\n",
    "\n",
    "We have used expression attribute values in many examples, so skip examples for this."
   ]
  },
  {
   "cell_type": "markdown",
   "metadata": {},
   "source": [
    "### Condition Expression\n",
    "\n",
    "For these data manipulation operations, you can specify a condition expression to determine which items should be modified. If the condition expression evaluates to true, the operation succeeds; otherwise, the operation fails.\n",
    "\n",
    "Here are built-in functions and keywords for writing condition expressions. You can find details in [AWS Development Guide](https://docs.aws.amazon.com/amazondynamodb/latest/developerguide/Expressions.OperatorsAndFunctions.html).\n",
    "\n",
    "- Comparison: `=`, `<>`, `<`, `<=`, `>`, `>=`, `BETWEEN`, `IN`\n",
    "- Logical evaluations: `AND`, `OR`, `NOT`\n",
    "- Functions\n",
    "    - `attribute_exists`\n",
    "    - `attribute_not_exists`\n",
    "    - `attribute_type`\n",
    "    - `begins_with`\n",
    "    - `contains`\n",
    "    - `size`\n",
    "\n",
    "You use these functions and keywords in `ConditionExpression` parameter."
   ]
  },
  {
   "cell_type": "code",
   "execution_count": 43,
   "metadata": {},
   "outputs": [
    {
     "ename": "ConditionalCheckFailedException",
     "evalue": "An error occurred (ConditionalCheckFailedException) when calling the PutItem operation: The conditional request failed",
     "output_type": "error",
     "traceback": [
      "\u001b[0;31m---------------------------------------------------------------------------\u001b[0m",
      "\u001b[0;31mConditionalCheckFailedException\u001b[0m           Traceback (most recent call last)",
      "\u001b[0;32m<ipython-input-43-3ffef27ece3e>\u001b[0m in \u001b[0;36m<module>\u001b[0;34m\u001b[0m\n\u001b[1;32m      7\u001b[0m     },\n\u001b[1;32m      8\u001b[0m     \u001b[0mReturnConsumedCapacity\u001b[0m\u001b[0;34m=\u001b[0m\u001b[0;34m'INDEXES'\u001b[0m\u001b[0;34m,\u001b[0m\u001b[0;34m\u001b[0m\u001b[0;34m\u001b[0m\u001b[0m\n\u001b[0;32m----> 9\u001b[0;31m     \u001b[0mConditionExpression\u001b[0m\u001b[0;34m=\u001b[0m\u001b[0;34m'attribute_not_exists(StoreNumber)'\u001b[0m\u001b[0;34m\u001b[0m\u001b[0;34m\u001b[0m\u001b[0m\n\u001b[0m\u001b[1;32m     10\u001b[0m )\n\u001b[1;32m     11\u001b[0m \u001b[0;34m\u001b[0m\u001b[0m\n",
      "\u001b[0;32m~/anaconda3/envs/python3/lib/python3.6/site-packages/boto3/resources/factory.py\u001b[0m in \u001b[0;36mdo_action\u001b[0;34m(self, *args, **kwargs)\u001b[0m\n\u001b[1;32m    518\u001b[0m             \u001b[0;31m# instance via ``self``.\u001b[0m\u001b[0;34m\u001b[0m\u001b[0;34m\u001b[0m\u001b[0;34m\u001b[0m\u001b[0m\n\u001b[1;32m    519\u001b[0m             \u001b[0;32mdef\u001b[0m \u001b[0mdo_action\u001b[0m\u001b[0;34m(\u001b[0m\u001b[0mself\u001b[0m\u001b[0;34m,\u001b[0m \u001b[0;34m*\u001b[0m\u001b[0margs\u001b[0m\u001b[0;34m,\u001b[0m \u001b[0;34m**\u001b[0m\u001b[0mkwargs\u001b[0m\u001b[0;34m)\u001b[0m\u001b[0;34m:\u001b[0m\u001b[0;34m\u001b[0m\u001b[0;34m\u001b[0m\u001b[0m\n\u001b[0;32m--> 520\u001b[0;31m                 \u001b[0mresponse\u001b[0m \u001b[0;34m=\u001b[0m \u001b[0maction\u001b[0m\u001b[0;34m(\u001b[0m\u001b[0mself\u001b[0m\u001b[0;34m,\u001b[0m \u001b[0;34m*\u001b[0m\u001b[0margs\u001b[0m\u001b[0;34m,\u001b[0m \u001b[0;34m**\u001b[0m\u001b[0mkwargs\u001b[0m\u001b[0;34m)\u001b[0m\u001b[0;34m\u001b[0m\u001b[0;34m\u001b[0m\u001b[0m\n\u001b[0m\u001b[1;32m    521\u001b[0m \u001b[0;34m\u001b[0m\u001b[0m\n\u001b[1;32m    522\u001b[0m                 \u001b[0;32mif\u001b[0m \u001b[0mhasattr\u001b[0m\u001b[0;34m(\u001b[0m\u001b[0mself\u001b[0m\u001b[0;34m,\u001b[0m \u001b[0;34m'load'\u001b[0m\u001b[0;34m)\u001b[0m\u001b[0;34m:\u001b[0m\u001b[0;34m\u001b[0m\u001b[0;34m\u001b[0m\u001b[0m\n",
      "\u001b[0;32m~/anaconda3/envs/python3/lib/python3.6/site-packages/boto3/resources/action.py\u001b[0m in \u001b[0;36m__call__\u001b[0;34m(self, parent, *args, **kwargs)\u001b[0m\n\u001b[1;32m     81\u001b[0m                     operation_name, params)\n\u001b[1;32m     82\u001b[0m \u001b[0;34m\u001b[0m\u001b[0m\n\u001b[0;32m---> 83\u001b[0;31m         \u001b[0mresponse\u001b[0m \u001b[0;34m=\u001b[0m \u001b[0mgetattr\u001b[0m\u001b[0;34m(\u001b[0m\u001b[0mparent\u001b[0m\u001b[0;34m.\u001b[0m\u001b[0mmeta\u001b[0m\u001b[0;34m.\u001b[0m\u001b[0mclient\u001b[0m\u001b[0;34m,\u001b[0m \u001b[0moperation_name\u001b[0m\u001b[0;34m)\u001b[0m\u001b[0;34m(\u001b[0m\u001b[0;34m*\u001b[0m\u001b[0margs\u001b[0m\u001b[0;34m,\u001b[0m \u001b[0;34m**\u001b[0m\u001b[0mparams\u001b[0m\u001b[0;34m)\u001b[0m\u001b[0;34m\u001b[0m\u001b[0;34m\u001b[0m\u001b[0m\n\u001b[0m\u001b[1;32m     84\u001b[0m \u001b[0;34m\u001b[0m\u001b[0m\n\u001b[1;32m     85\u001b[0m         \u001b[0mlogger\u001b[0m\u001b[0;34m.\u001b[0m\u001b[0mdebug\u001b[0m\u001b[0;34m(\u001b[0m\u001b[0;34m'Response: %r'\u001b[0m\u001b[0;34m,\u001b[0m \u001b[0mresponse\u001b[0m\u001b[0;34m)\u001b[0m\u001b[0;34m\u001b[0m\u001b[0;34m\u001b[0m\u001b[0m\n",
      "\u001b[0;32m~/anaconda3/envs/python3/lib/python3.6/site-packages/botocore/client.py\u001b[0m in \u001b[0;36m_api_call\u001b[0;34m(self, *args, **kwargs)\u001b[0m\n\u001b[1;32m    335\u001b[0m                     \"%s() only accepts keyword arguments.\" % py_operation_name)\n\u001b[1;32m    336\u001b[0m             \u001b[0;31m# The \"self\" in this scope is referring to the BaseClient.\u001b[0m\u001b[0;34m\u001b[0m\u001b[0;34m\u001b[0m\u001b[0;34m\u001b[0m\u001b[0m\n\u001b[0;32m--> 337\u001b[0;31m             \u001b[0;32mreturn\u001b[0m \u001b[0mself\u001b[0m\u001b[0;34m.\u001b[0m\u001b[0m_make_api_call\u001b[0m\u001b[0;34m(\u001b[0m\u001b[0moperation_name\u001b[0m\u001b[0;34m,\u001b[0m \u001b[0mkwargs\u001b[0m\u001b[0;34m)\u001b[0m\u001b[0;34m\u001b[0m\u001b[0;34m\u001b[0m\u001b[0m\n\u001b[0m\u001b[1;32m    338\u001b[0m \u001b[0;34m\u001b[0m\u001b[0m\n\u001b[1;32m    339\u001b[0m         \u001b[0m_api_call\u001b[0m\u001b[0;34m.\u001b[0m\u001b[0m__name__\u001b[0m \u001b[0;34m=\u001b[0m \u001b[0mstr\u001b[0m\u001b[0;34m(\u001b[0m\u001b[0mpy_operation_name\u001b[0m\u001b[0;34m)\u001b[0m\u001b[0;34m\u001b[0m\u001b[0;34m\u001b[0m\u001b[0m\n",
      "\u001b[0;32m~/anaconda3/envs/python3/lib/python3.6/site-packages/botocore/client.py\u001b[0m in \u001b[0;36m_make_api_call\u001b[0;34m(self, operation_name, api_params)\u001b[0m\n\u001b[1;32m    654\u001b[0m             \u001b[0merror_code\u001b[0m \u001b[0;34m=\u001b[0m \u001b[0mparsed_response\u001b[0m\u001b[0;34m.\u001b[0m\u001b[0mget\u001b[0m\u001b[0;34m(\u001b[0m\u001b[0;34m\"Error\"\u001b[0m\u001b[0;34m,\u001b[0m \u001b[0;34m{\u001b[0m\u001b[0;34m}\u001b[0m\u001b[0;34m)\u001b[0m\u001b[0;34m.\u001b[0m\u001b[0mget\u001b[0m\u001b[0;34m(\u001b[0m\u001b[0;34m\"Code\"\u001b[0m\u001b[0;34m)\u001b[0m\u001b[0;34m\u001b[0m\u001b[0;34m\u001b[0m\u001b[0m\n\u001b[1;32m    655\u001b[0m             \u001b[0merror_class\u001b[0m \u001b[0;34m=\u001b[0m \u001b[0mself\u001b[0m\u001b[0;34m.\u001b[0m\u001b[0mexceptions\u001b[0m\u001b[0;34m.\u001b[0m\u001b[0mfrom_code\u001b[0m\u001b[0;34m(\u001b[0m\u001b[0merror_code\u001b[0m\u001b[0;34m)\u001b[0m\u001b[0;34m\u001b[0m\u001b[0;34m\u001b[0m\u001b[0m\n\u001b[0;32m--> 656\u001b[0;31m             \u001b[0;32mraise\u001b[0m \u001b[0merror_class\u001b[0m\u001b[0;34m(\u001b[0m\u001b[0mparsed_response\u001b[0m\u001b[0;34m,\u001b[0m \u001b[0moperation_name\u001b[0m\u001b[0;34m)\u001b[0m\u001b[0;34m\u001b[0m\u001b[0;34m\u001b[0m\u001b[0m\n\u001b[0m\u001b[1;32m    657\u001b[0m         \u001b[0;32melse\u001b[0m\u001b[0;34m:\u001b[0m\u001b[0;34m\u001b[0m\u001b[0;34m\u001b[0m\u001b[0m\n\u001b[1;32m    658\u001b[0m             \u001b[0;32mreturn\u001b[0m \u001b[0mparsed_response\u001b[0m\u001b[0;34m\u001b[0m\u001b[0;34m\u001b[0m\u001b[0m\n",
      "\u001b[0;31mConditionalCheckFailedException\u001b[0m: An error occurred (ConditionalCheckFailedException) when calling the PutItem operation: The conditional request failed"
     ]
    }
   ],
   "source": [
    "# it doesn't put the item if the key already exists\n",
    "response = starbucks.put_item(\n",
    "    Item={\n",
    "        'StoreNumber': '283-11902',\n",
    "        'StoreName': 'GS Building B1F',\n",
    "        'Brand': 'Starbucks'\n",
    "    },\n",
    "    ReturnConsumedCapacity='INDEXES',\n",
    "    ConditionExpression='attribute_not_exists(StoreNumber)'\n",
    ")\n",
    "\n",
    "pprint(response)"
   ]
  },
  {
   "cell_type": "code",
   "execution_count": 46,
   "metadata": {},
   "outputs": [
    {
     "ename": "ConditionalCheckFailedException",
     "evalue": "An error occurred (ConditionalCheckFailedException) when calling the DeleteItem operation: The conditional request failed",
     "output_type": "error",
     "traceback": [
      "\u001b[0;31m---------------------------------------------------------------------------\u001b[0m",
      "\u001b[0;31mConditionalCheckFailedException\u001b[0m           Traceback (most recent call last)",
      "\u001b[0;32m<ipython-input-46-2af1324311b0>\u001b[0m in \u001b[0;36m<module>\u001b[0;34m\u001b[0m\n\u001b[1;32m      7\u001b[0m     \u001b[0mConditionExpression\u001b[0m\u001b[0;34m=\u001b[0m\u001b[0;34m'begins_with(StoreName, :prefix)'\u001b[0m\u001b[0;34m,\u001b[0m\u001b[0;34m\u001b[0m\u001b[0;34m\u001b[0m\u001b[0m\n\u001b[1;32m      8\u001b[0m     ExpressionAttributeValues={\n\u001b[0;32m----> 9\u001b[0;31m         \u001b[0;34m':prefix'\u001b[0m\u001b[0;34m:\u001b[0m \u001b[0;34m'GS'\u001b[0m\u001b[0;34m\u001b[0m\u001b[0;34m\u001b[0m\u001b[0m\n\u001b[0m\u001b[1;32m     10\u001b[0m     }\n\u001b[1;32m     11\u001b[0m )\n",
      "\u001b[0;32m~/anaconda3/envs/python3/lib/python3.6/site-packages/boto3/resources/factory.py\u001b[0m in \u001b[0;36mdo_action\u001b[0;34m(self, *args, **kwargs)\u001b[0m\n\u001b[1;32m    518\u001b[0m             \u001b[0;31m# instance via ``self``.\u001b[0m\u001b[0;34m\u001b[0m\u001b[0;34m\u001b[0m\u001b[0;34m\u001b[0m\u001b[0m\n\u001b[1;32m    519\u001b[0m             \u001b[0;32mdef\u001b[0m \u001b[0mdo_action\u001b[0m\u001b[0;34m(\u001b[0m\u001b[0mself\u001b[0m\u001b[0;34m,\u001b[0m \u001b[0;34m*\u001b[0m\u001b[0margs\u001b[0m\u001b[0;34m,\u001b[0m \u001b[0;34m**\u001b[0m\u001b[0mkwargs\u001b[0m\u001b[0;34m)\u001b[0m\u001b[0;34m:\u001b[0m\u001b[0;34m\u001b[0m\u001b[0;34m\u001b[0m\u001b[0m\n\u001b[0;32m--> 520\u001b[0;31m                 \u001b[0mresponse\u001b[0m \u001b[0;34m=\u001b[0m \u001b[0maction\u001b[0m\u001b[0;34m(\u001b[0m\u001b[0mself\u001b[0m\u001b[0;34m,\u001b[0m \u001b[0;34m*\u001b[0m\u001b[0margs\u001b[0m\u001b[0;34m,\u001b[0m \u001b[0;34m**\u001b[0m\u001b[0mkwargs\u001b[0m\u001b[0;34m)\u001b[0m\u001b[0;34m\u001b[0m\u001b[0;34m\u001b[0m\u001b[0m\n\u001b[0m\u001b[1;32m    521\u001b[0m \u001b[0;34m\u001b[0m\u001b[0m\n\u001b[1;32m    522\u001b[0m                 \u001b[0;32mif\u001b[0m \u001b[0mhasattr\u001b[0m\u001b[0;34m(\u001b[0m\u001b[0mself\u001b[0m\u001b[0;34m,\u001b[0m \u001b[0;34m'load'\u001b[0m\u001b[0;34m)\u001b[0m\u001b[0;34m:\u001b[0m\u001b[0;34m\u001b[0m\u001b[0;34m\u001b[0m\u001b[0m\n",
      "\u001b[0;32m~/anaconda3/envs/python3/lib/python3.6/site-packages/boto3/resources/action.py\u001b[0m in \u001b[0;36m__call__\u001b[0;34m(self, parent, *args, **kwargs)\u001b[0m\n\u001b[1;32m     81\u001b[0m                     operation_name, params)\n\u001b[1;32m     82\u001b[0m \u001b[0;34m\u001b[0m\u001b[0m\n\u001b[0;32m---> 83\u001b[0;31m         \u001b[0mresponse\u001b[0m \u001b[0;34m=\u001b[0m \u001b[0mgetattr\u001b[0m\u001b[0;34m(\u001b[0m\u001b[0mparent\u001b[0m\u001b[0;34m.\u001b[0m\u001b[0mmeta\u001b[0m\u001b[0;34m.\u001b[0m\u001b[0mclient\u001b[0m\u001b[0;34m,\u001b[0m \u001b[0moperation_name\u001b[0m\u001b[0;34m)\u001b[0m\u001b[0;34m(\u001b[0m\u001b[0;34m*\u001b[0m\u001b[0margs\u001b[0m\u001b[0;34m,\u001b[0m \u001b[0;34m**\u001b[0m\u001b[0mparams\u001b[0m\u001b[0;34m)\u001b[0m\u001b[0;34m\u001b[0m\u001b[0;34m\u001b[0m\u001b[0m\n\u001b[0m\u001b[1;32m     84\u001b[0m \u001b[0;34m\u001b[0m\u001b[0m\n\u001b[1;32m     85\u001b[0m         \u001b[0mlogger\u001b[0m\u001b[0;34m.\u001b[0m\u001b[0mdebug\u001b[0m\u001b[0;34m(\u001b[0m\u001b[0;34m'Response: %r'\u001b[0m\u001b[0;34m,\u001b[0m \u001b[0mresponse\u001b[0m\u001b[0;34m)\u001b[0m\u001b[0;34m\u001b[0m\u001b[0;34m\u001b[0m\u001b[0m\n",
      "\u001b[0;32m~/anaconda3/envs/python3/lib/python3.6/site-packages/botocore/client.py\u001b[0m in \u001b[0;36m_api_call\u001b[0;34m(self, *args, **kwargs)\u001b[0m\n\u001b[1;32m    335\u001b[0m                     \"%s() only accepts keyword arguments.\" % py_operation_name)\n\u001b[1;32m    336\u001b[0m             \u001b[0;31m# The \"self\" in this scope is referring to the BaseClient.\u001b[0m\u001b[0;34m\u001b[0m\u001b[0;34m\u001b[0m\u001b[0;34m\u001b[0m\u001b[0m\n\u001b[0;32m--> 337\u001b[0;31m             \u001b[0;32mreturn\u001b[0m \u001b[0mself\u001b[0m\u001b[0;34m.\u001b[0m\u001b[0m_make_api_call\u001b[0m\u001b[0;34m(\u001b[0m\u001b[0moperation_name\u001b[0m\u001b[0;34m,\u001b[0m \u001b[0mkwargs\u001b[0m\u001b[0;34m)\u001b[0m\u001b[0;34m\u001b[0m\u001b[0;34m\u001b[0m\u001b[0m\n\u001b[0m\u001b[1;32m    338\u001b[0m \u001b[0;34m\u001b[0m\u001b[0m\n\u001b[1;32m    339\u001b[0m         \u001b[0m_api_call\u001b[0m\u001b[0;34m.\u001b[0m\u001b[0m__name__\u001b[0m \u001b[0;34m=\u001b[0m \u001b[0mstr\u001b[0m\u001b[0;34m(\u001b[0m\u001b[0mpy_operation_name\u001b[0m\u001b[0;34m)\u001b[0m\u001b[0;34m\u001b[0m\u001b[0;34m\u001b[0m\u001b[0m\n",
      "\u001b[0;32m~/anaconda3/envs/python3/lib/python3.6/site-packages/botocore/client.py\u001b[0m in \u001b[0;36m_make_api_call\u001b[0;34m(self, operation_name, api_params)\u001b[0m\n\u001b[1;32m    654\u001b[0m             \u001b[0merror_code\u001b[0m \u001b[0;34m=\u001b[0m \u001b[0mparsed_response\u001b[0m\u001b[0;34m.\u001b[0m\u001b[0mget\u001b[0m\u001b[0;34m(\u001b[0m\u001b[0;34m\"Error\"\u001b[0m\u001b[0;34m,\u001b[0m \u001b[0;34m{\u001b[0m\u001b[0;34m}\u001b[0m\u001b[0;34m)\u001b[0m\u001b[0;34m.\u001b[0m\u001b[0mget\u001b[0m\u001b[0;34m(\u001b[0m\u001b[0;34m\"Code\"\u001b[0m\u001b[0;34m)\u001b[0m\u001b[0;34m\u001b[0m\u001b[0;34m\u001b[0m\u001b[0m\n\u001b[1;32m    655\u001b[0m             \u001b[0merror_class\u001b[0m \u001b[0;34m=\u001b[0m \u001b[0mself\u001b[0m\u001b[0;34m.\u001b[0m\u001b[0mexceptions\u001b[0m\u001b[0;34m.\u001b[0m\u001b[0mfrom_code\u001b[0m\u001b[0;34m(\u001b[0m\u001b[0merror_code\u001b[0m\u001b[0;34m)\u001b[0m\u001b[0;34m\u001b[0m\u001b[0;34m\u001b[0m\u001b[0m\n\u001b[0;32m--> 656\u001b[0;31m             \u001b[0;32mraise\u001b[0m \u001b[0merror_class\u001b[0m\u001b[0;34m(\u001b[0m\u001b[0mparsed_response\u001b[0m\u001b[0;34m,\u001b[0m \u001b[0moperation_name\u001b[0m\u001b[0;34m)\u001b[0m\u001b[0;34m\u001b[0m\u001b[0;34m\u001b[0m\u001b[0m\n\u001b[0m\u001b[1;32m    657\u001b[0m         \u001b[0;32melse\u001b[0m\u001b[0;34m:\u001b[0m\u001b[0;34m\u001b[0m\u001b[0;34m\u001b[0m\u001b[0m\n\u001b[1;32m    658\u001b[0m             \u001b[0;32mreturn\u001b[0m \u001b[0mparsed_response\u001b[0m\u001b[0;34m\u001b[0m\u001b[0;34m\u001b[0m\u001b[0m\n",
      "\u001b[0;31mConditionalCheckFailedException\u001b[0m: An error occurred (ConditionalCheckFailedException) when calling the DeleteItem operation: The conditional request failed"
     ]
    }
   ],
   "source": [
    "# it deletes the item only when StoreName starts with GS, otherwise it returns an error\n",
    "response = starbucks.delete_item(\n",
    "    Key={\n",
    "        'StoreNumber': '283-11902'\n",
    "    },\n",
    "    ReturnConsumedCapacity='INDEXES',\n",
    "    ConditionExpression='begins_with(StoreName, :prefix)',\n",
    "    ExpressionAttributeValues={\n",
    "        ':prefix': 'GS'\n",
    "    }\n",
    ")\n",
    "\n",
    "pprint(response)"
   ]
  },
  {
   "cell_type": "code",
   "execution_count": 53,
   "metadata": {},
   "outputs": [
    {
     "name": "stdout",
     "output_type": "stream",
     "text": [
      "{'Attributes': {'Brand': 'Starbucks',\n",
      "                'Employees': {'Alex',\n",
      "                              'Donald',\n",
      "                              'Huang',\n",
      "                              'Jan',\n",
      "                              'Sam',\n",
      "                              'Susie',\n",
      "                              'Tom'},\n",
      "                'MaxEmployee': True,\n",
      "                'NumberOfEmployees': Decimal('11'),\n",
      "                'StoreName': 'Worldcup Stadium',\n",
      "                'StoreNumber': '92512-73'},\n",
      " 'ConsumedCapacity': {'CapacityUnits': 1.0,\n",
      "                      'Table': {'CapacityUnits': 1.0},\n",
      "                      'TableName': 'Starbucks'},\n",
      " 'ResponseMetadata': {'HTTPHeaders': {'connection': 'keep-alive',\n",
      "                                      'content-length': '335',\n",
      "                                      'content-type': 'application/x-amz-json-1.0',\n",
      "                                      'date': 'Sun, 04 Oct 2020 17:25:44 GMT',\n",
      "                                      'server': 'Server',\n",
      "                                      'x-amz-crc32': '3411940554',\n",
      "                                      'x-amzn-requestid': 'IUJNSB7HT60PO0KJUS36U8QGPFVV4KQNSO5AEMVJF66Q9ASUAAJG'},\n",
      "                      'HTTPStatusCode': 200,\n",
      "                      'RequestId': 'IUJNSB7HT60PO0KJUS36U8QGPFVV4KQNSO5AEMVJF66Q9ASUAAJG',\n",
      "                      'RetryAttempts': 0}}\n"
     ]
    }
   ],
   "source": [
    "response = starbucks.update_item(\n",
    "    Key={\n",
    "        'StoreNumber': '92512-73'\n",
    "    },\n",
    "    UpdateExpression='SET MaxEmployee = :true',\n",
    "    ConditionExpression='size(Employees) > :limit',\n",
    "    ExpressionAttributeValues={\n",
    "        ':true': True,\n",
    "        ':limit': 3\n",
    "    },\n",
    "    ReturnValues='ALL_NEW',\n",
    "    ReturnConsumedCapacity='INDEXES'\n",
    ")\n",
    "\n",
    "pprint(response)"
   ]
  }
 ],
 "metadata": {
  "kernelspec": {
   "display_name": "conda_python3",
   "language": "python",
   "name": "conda_python3"
  },
  "language_info": {
   "codemirror_mode": {
    "name": "ipython",
    "version": 3
   },
   "file_extension": ".py",
   "mimetype": "text/x-python",
   "name": "python",
   "nbconvert_exporter": "python",
   "pygments_lexer": "ipython3",
   "version": "3.6.10"
  },
  "toc-autonumbering": true,
  "toc-showcode": true
 },
 "nbformat": 4,
 "nbformat_minor": 4
}
